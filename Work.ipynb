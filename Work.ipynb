{
 "cells": [
  {
   "cell_type": "markdown",
   "metadata": {},
   "source": [
    "## Work For learn\n",
    "##### 1. Machine learning terminologies\n",
    "##### 2. Machine learning in another perspective\n",
    "##### 3. Cross Validation\n",
    "##### 4. Confusion Matrix \n",
    "##### 5. Sensitivity vs. Specificity \n",
    "##### 6. Bias Variance \n",
    "##### 7. Entropy \n",
    "##### 8. Linear Regression \n",
    "##### 9. Multiple Linear Regression \n",
    "##### 10. Logistic Regression\n",
    "##### 11. ROC and AUC \n",
    "##### 12. Maximum Likelihood \n",
    "##### 13. R-square for Logistic Regression\n",
    "##### 14. Lasso Regression\n",
    "##### 15. Elastic-Net Regression\n",
    "##### 16. Principal Component Analysis(PCA)\n",
    "##### 17. K-means Clustering\n"
   ]
  }
 ],
 "metadata": {
  "language_info": {
   "name": "python"
  }
 },
 "nbformat": 4,
 "nbformat_minor": 2
}
